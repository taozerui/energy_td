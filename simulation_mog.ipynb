{
 "cells": [
  {
   "cell_type": "markdown",
   "metadata": {},
   "source": [
    "# Simulation Study"
   ]
  },
  {
   "cell_type": "code",
   "execution_count": 1,
   "metadata": {},
   "outputs": [],
   "source": [
    "import os\n",
    "import torch\n",
    "import numpy as np\n",
    "import seaborn as sns\n",
    "import matplotlib.pyplot as plt\n",
    "from scipy.stats import norm\n",
    "from torch.utils.data import TensorDataset, DataLoader\n",
    "from tqdm.notebook import tqdm\n",
    "from matplotlib.ticker import FormatStrFormatter\n",
    "from matplotlib import rcParams\n",
    "\n",
    "%matplotlib inline\n",
    "sns.set_theme()\n",
    "\n",
    "torch.manual_seed(42)\n",
    "np.random.seed(123)\n",
    "\n",
    "os.environ['CUDA_VISIBLE_DEVICES'] = '9'\n",
    "\n",
    "if torch.cuda.is_available():\n",
    "    DEVICE = torch.device('cuda')\n",
    "else:\n",
    "    DEVICE = torch.device('cpu')"
   ]
  },
  {
   "cell_type": "code",
   "execution_count": 2,
   "metadata": {},
   "outputs": [],
   "source": [
    "from src.model import EnergyTDContinuous\n",
    "\n",
    "\n",
    "class Trainer:\n",
    "    \"\"\"docstring for Trainer.\"\"\"\n",
    "    def __init__(\n",
    "        self,\n",
    "        model,\n",
    "        optimizer,\n",
    "        scheduler,\n",
    "        epoch=500,\n",
    "        eval_interval=10,\n",
    "        print_eval=True\n",
    "    ):\n",
    "        super(Trainer, self).__init__()\n",
    "        self.model = model\n",
    "        self.optimizer = optimizer\n",
    "        self.scheduler = scheduler\n",
    "        self.epoch = epoch\n",
    "\n",
    "        self.eval_interval = eval_interval\n",
    "        self.print_eval = print_eval\n",
    "\n",
    "        self.current_epoch = 0\n",
    "        self.loss_log = {'train': [], 'test': [], 'val': []}\n",
    "\n",
    "    def train(self, train_loader, valid_loader=None, test_loader=None):\n",
    "        bar = tqdm(range(self.epoch), desc='[Epoch 0]')\n",
    "        for epoch in bar:\n",
    "            bar.set_description(f'[Epoch {epoch}]')\n",
    "            self.train_epoch(train_loader)\n",
    "            if valid_loader is not None:\n",
    "                self.eval_epoch(valid_loader, 'Valid')\n",
    "            if test_loader is not None:\n",
    "                self.eval_epoch(test_loader, 'Test')\n",
    "            self.current_epoch += 1\n",
    "            self.scheduler.step()\n",
    "\n",
    "            bar.set_postfix({'Loss': self.current_loss})\n",
    "\n",
    "    def train_epoch(self, data_loader):\n",
    "        model = self.model\n",
    "\n",
    "        model.train()\n",
    "\n",
    "        loss_log = []\n",
    "        for batch_idx, (inputs, x_val) in enumerate(data_loader):\n",
    "            inputs = inputs.to(DEVICE)\n",
    "            x_val = x_val.to(DEVICE)\n",
    "\n",
    "            try:\n",
    "                vnce = model.loss(inputs, x_val)\n",
    "            except:\n",
    "                vnce = model(inputs, x_val, sample=True)\n",
    "            loss = - vnce\n",
    "\n",
    "            self.optimizer.zero_grad()\n",
    "            loss.backward()\n",
    "            self.optimizer.step()\n",
    "\n",
    "            loss_log.append(vnce.item())\n",
    "\n",
    "        loss_log = np.mean(loss_log)\n",
    "        self.current_loss = loss_log\n",
    "        self.loss_log['train'].append(loss_log)"
   ]
  },
  {
   "cell_type": "code",
   "execution_count": 3,
   "metadata": {},
   "outputs": [
    {
     "name": "stdout",
     "output_type": "stream",
     "text": [
      "torch.Size([8, 8, 200])\n"
     ]
    },
    {
     "data": {
      "text/plain": [
       "[<matplotlib.lines.Line2D at 0x14b5b5964550>]"
      ]
     },
     "execution_count": 3,
     "metadata": {},
     "output_type": "execute_result"
    },
    {
     "data": {
      "image/png": "[encoded data removed]",
      "text/plain": [
       "<Figure size 300x300 with 1 Axes>"
      ]
     },
     "metadata": {},
     "output_type": "display_data"
    }
   ],
   "source": [
    "R = 5\n",
    "I = [8] * 2\n",
    "N = 200\n",
    "BATCH_SIZE = 1000\n",
    "GRID = 1e-3\n",
    "\n",
    "factors = []\n",
    "for i in I:\n",
    "    # factors.append(torch.rand(i, R) * torch.pi * 0.5)\n",
    "    factors.append(torch.rand(i, R))\n",
    "\n",
    "tensor_ = torch.einsum('ia, ja-> ij', *factors)\n",
    "tensor_ /= tensor_.abs().max()\n",
    "\n",
    "tensor = []\n",
    "# SIG1 = 1.\n",
    "# SIG2 = 1.5\n",
    "SIG1 = 0.1\n",
    "SIG2 = 0.25\n",
    "RATE1 = 0.4\n",
    "for n in range(N):\n",
    "    # mixture1 = torch.randn_like(tensor_) * SIG1 + 2. + tensor_\n",
    "    # mixture2 = torch.randn_like(tensor_) * SIG2 - 2. + tensor_\n",
    "    mixture1 = torch.randn_like(tensor_) * SIG1 + tensor_.cos()\n",
    "    mixture2 = torch.randn_like(tensor_) * SIG2 + tensor_.sin()\n",
    "    if np.random.rand() > RATE1:\n",
    "        tensor.append(mixture1)\n",
    "    else:\n",
    "        tensor.append(mixture2)\n",
    "tensor = torch.stack(tensor, -1)\n",
    "# tensor /= 5.\n",
    "print(tensor.shape)\n",
    "\n",
    "x_bound = [-1., 2.]\n",
    "x_range = torch.arange(*x_bound, step=GRID).numpy()\n",
    "# true_pdf = (1 - RATE1) * norm.pdf(x_range, tensor_[0, 0] + 2., SIG1) + \\\n",
    "#     RATE1 * norm.pdf(x_range, tensor_[0, 0] - 2., SIG2)\n",
    "true_pdf = (1 - RATE1) * norm.pdf(x_range, tensor_[0, 0].cos(), SIG1) + \\\n",
    "    RATE1 * norm.pdf(x_range, tensor_[0, 0].sin(), SIG2)\n",
    "\n",
    "plt.figure(figsize=(3, 3))\n",
    "plt.plot(x_range, true_pdf)"
   ]
  },
  {
   "cell_type": "code",
   "execution_count": 4,
   "metadata": {},
   "outputs": [
    {
     "name": "stdout",
     "output_type": "stream",
     "text": [
      "torch.Size([12800, 2])\n"
     ]
    }
   ],
   "source": [
    "train_idx = torch.nonzero(torch.ones_like(tensor), as_tuple=True)\n",
    "train_val = tensor[train_idx]\n",
    "train_idx = torch.stack(train_idx).T\n",
    "train_idx = train_idx[:, :2]\n",
    "train_dt = TensorDataset(train_idx, train_val)\n",
    "train_loader = DataLoader(train_dt, batch_size=BATCH_SIZE, shuffle=True)\n",
    "print(train_dt.tensors[0].shape)"
   ]
  },
  {
   "cell_type": "code",
   "execution_count": 5,
   "metadata": {},
   "outputs": [
    {
     "data": {
      "application/vnd.jupyter.widget-view+json": {
       "model_id": "a8be3f6f893c4abdbebf4545aea82c26",
       "version_major": 2,
       "version_minor": 0
      },
      "text/plain": [
       "[Epoch 0]:   0%|          | 0/500 [00:00<?, ?it/s]"
      ]
     },
     "metadata": {},
     "output_type": "display_data"
    }
   ],
   "source": [
    "RANK = 3\n",
    "H_DIM = [64] * 5\n",
    "ACT = 'elu'\n",
    "NOISE_SIGMA = 0.3\n",
    "NU = 10\n",
    "\n",
    "EPOCH = 500\n",
    "LR = 1e-3\n",
    "\n",
    "model = EnergyTDContinuous(\n",
    "    tensor_shape=I,\n",
    "    rank=RANK,\n",
    "    h_dim=H_DIM,\n",
    "    act=ACT,\n",
    "    noise_sigma=NOISE_SIGMA,\n",
    "    embedding_size=1,\n",
    "    nu=NU,\n",
    ").to(DEVICE)\n",
    "\n",
    "optimizer = torch.optim.Adam(model.parameters(), lr=LR)\n",
    "miles = [int(i * EPOCH) for i in (0.6, 0.75, 0.9)]\n",
    "scheduler = torch.optim.lr_scheduler.MultiStepLR(\n",
    "    optimizer=optimizer, milestones=miles, gamma=0.3,\n",
    ")\n",
    "trainer = Trainer(\n",
    "    model=model, optimizer=optimizer, scheduler=scheduler, epoch=EPOCH\n",
    ")\n",
    "trainer.train(train_loader)"
   ]
  },
  {
   "cell_type": "code",
   "execution_count": 7,
   "metadata": {},
   "outputs": [
    {
     "data": {
      "image/png": "[encoded data removed]",
      "text/plain": [
       "<Figure size 500x400 with 1 Axes>"
      ]
     },
     "metadata": {},
     "output_type": "display_data"
    }
   ],
   "source": [
    "GRID = 1e-3\n",
    "IDX1 = 5\n",
    "IDX2 = 3\n",
    "\n",
    "model = trainer.model\n",
    "model.train()\n",
    "# gp_model = gp_trainer.model\n",
    "# gp_model.train()\n",
    "\n",
    "plt.figure(figsize=(5, 4))\n",
    "\n",
    "rcParams['font.family'] = 'sans-serif'\n",
    "rcParams['font.sans-serif'] = ['Tahoma', 'DejaVu Sans',\n",
    "                               'Lucida Grande', 'Verdana']\n",
    "\n",
    "x_bound = [-1., 2.]\n",
    "x_range = torch.arange(*x_bound, step=GRID).numpy()\n",
    "true_pdf = (1 - RATE1) * norm.pdf(x_range, tensor_[IDX1, IDX2].cos(), SIG1) + \\\n",
    "    RATE1 * norm.pdf(x_range, tensor_[IDX1, IDX2].sin(), SIG2)\n",
    "\n",
    "plt.plot(x_range, true_pdf, color='b', label='Truth', linewidth=3)\n",
    "\n",
    "# GP\n",
    "# idx = torch.tensor(\n",
    "#     [IDX1, IDX2], dtype=torch.int64, device=DEVICE\n",
    "# ).view(1, -1)\n",
    "# x_mean_hat = gp_model(idx, predict=True)\n",
    "# gp_est_pdf = norm.pdf(x_range, x_mean_hat.detach().cpu(), NOISE_SIGMA)\n",
    "\n",
    "# energy TD\n",
    "x_range = torch.arange(*x_bound, step=GRID).to(DEVICE)\n",
    "idx = torch.tensor(\n",
    "    [IDX1, IDX2], dtype=torch.int64, device=DEVICE\n",
    ").view(1, -1).repeat(len(x_range), 1)\n",
    "u_log_prob = model(idx, x_range, sample=False, return_z=False)\n",
    "prob = u_log_prob.exp().detach().cpu().numpy()\n",
    "partition = (prob * GRID).sum()\n",
    "prob = prob / partition\n",
    "\n",
    "sns.kdeplot(tensor[IDX1, IDX2, :], color='y', label='Obs.', linewidth=3)\n",
    "# plt.plot(x_range.cpu().numpy(), gp_est_pdf, color='r', alpha=1, label='GPTF', linewidth=3)\n",
    "plt.plot(x_range.cpu().numpy(), prob, color='g', alpha=1, label='EnergyTD', linewidth=3)\n",
    "plt.xlim(x_bound)\n",
    "\n",
    "\n",
    "plt.ylabel('Density', fontsize=22)\n",
    "\n",
    "plt.xlim([-1, 2])\n",
    "plt.yticks([0.0, 1.0, 2.0, 3.0])\n",
    "plt.xticks([-1.0, 0.0, 1.0, 2.0])\n",
    "plt.rc('ytick', labelsize=18)\n",
    "plt.rc('xtick', labelsize=18)\n",
    "plt.gca().yaxis.set_major_formatter(FormatStrFormatter('%.1f'))\n",
    "plt.gca().xaxis.set_major_formatter(FormatStrFormatter('%.1f'))\n",
    "\n",
    "plt.legend()\n",
    "plt.tight_layout()\n",
    "plt.show()\n",
    "# plt.savefig('simu_mog.pdf', format=\"pdf\", bbox_inches=\"tight\")"
   ]
  },
  {
   "cell_type": "code",
   "execution_count": null,
   "metadata": {},
   "outputs": [],
   "source": []
  }
 ],
 "metadata": {
  "kernelspec": {
   "display_name": "Python 3 (ipykernel)",
   "language": "python",
   "name": "python3"
  },
  "language_info": {
   "codemirror_mode": {
    "name": "ipython",
    "version": 3
   },
   "file_extension": ".py",
   "mimetype": "text/x-python",
   "name": "python",
   "nbconvert_exporter": "python",
   "pygments_lexer": "ipython3",
   "version": "3.9.15"
  },
  "vscode": {
   "interpreter": {
    "hash": "de7c6b83c5a0ba35d23d280dd12973d0388d27a69da7f01d1171579dbdcde581"
   }
  }
 },
 "nbformat": 4,
 "nbformat_minor": 4
}
